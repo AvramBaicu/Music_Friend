{
 "cells": [
  {
   "cell_type": "markdown",
   "id": "33e12b6a-9ff0-45e4-95fa-f4ca97131a75",
   "metadata": {},
   "source": [
    "words"
   ]
  },
  {
   "cell_type": "code",
   "execution_count": null,
   "id": "0c6070a3-db9e-41c4-ac98-d4a259bb7920",
   "metadata": {},
   "outputs": [],
   "source": [
    "y=3\n"
   ]
  },
  {
   "cell_type": "code",
   "execution_count": 7,
   "id": "b08ee94e-af7f-44a4-96c3-110a5be6a9e8",
   "metadata": {},
   "outputs": [
    {
     "data": {
      "text/plain": [
       "8"
      ]
     },
     "execution_count": 7,
     "metadata": {},
     "output_type": "execute_result"
    }
   ],
   "source": [
    "x=5\n",
    "x+y"
   ]
  },
  {
   "cell_type": "code",
   "execution_count": null,
   "id": "79469837-3aa8-433c-a110-d7bad0bb2f73",
   "metadata": {},
   "outputs": [],
   "source": []
  }
 ],
 "metadata": {
  "kernelspec": {
   "display_name": "Python 3 (ipykernel)",
   "language": "python",
   "name": "python3"
  },
  "language_info": {
   "codemirror_mode": {
    "name": "ipython",
    "version": 3
   },
   "file_extension": ".py",
   "mimetype": "text/x-python",
   "name": "python",
   "nbconvert_exporter": "python",
   "pygments_lexer": "ipython3",
   "version": "3.10.6"
  }
 },
 "nbformat": 4,
 "nbformat_minor": 5
}
